{
 "cells": [
  {
   "cell_type": "code",
   "execution_count": 1,
   "metadata": {},
   "outputs": [],
   "source": [
    "# how to use 'while loops'"
   ]
  },
  {
   "cell_type": "code",
   "execution_count": 4,
   "metadata": {},
   "outputs": [
    {
     "name": "stdout",
     "output_type": "stream",
     "text": [
      "10\n"
     ]
    }
   ],
   "source": [
    "# first, our 'for loops'\n",
    "\n",
    "total = 0\n",
    "for i in range(1, 5):\n",
    "    total += i\n",
    "print(total)"
   ]
  },
  {
   "cell_type": "code",
   "execution_count": 5,
   "metadata": {},
   "outputs": [
    {
     "name": "stdout",
     "output_type": "stream",
     "text": [
      "10\n"
     ]
    }
   ],
   "source": [
    "# this is our 'while loop', compared\n",
    "\n",
    "total2 = 0\n",
    "j = 1\n",
    "while j < 5:\n",
    "    total2 += j\n",
    "    j += 1\n",
    "print(total2)"
   ]
  },
  {
   "cell_type": "code",
   "execution_count": 7,
   "metadata": {},
   "outputs": [
    {
     "name": "stdout",
     "output_type": "stream",
     "text": [
      "17\n"
     ]
    }
   ],
   "source": [
    "# create a loop that computes all the positive values in a list\n",
    "\n",
    "given_list = [5, 4, 4, 3, 1, -2, -3, -5]\n",
    "total3 = 0\n",
    "i = 0\n",
    "\n",
    "while given_list[i] > 0:\n",
    "    total3 += given_list[i]\n",
    "    i += 1\n",
    "print(total3)"
   ]
  },
  {
   "cell_type": "code",
   "execution_count": 9,
   "metadata": {},
   "outputs": [
    {
     "name": "stdout",
     "output_type": "stream",
     "text": [
      "17\n"
     ]
    }
   ],
   "source": [
    "# if the list only contains positive values, we need to stop the loop\n",
    "\n",
    "given_list = [5, 4, 4, 3, 1]\n",
    "total4 = 0\n",
    "i = 0\n",
    "\n",
    "while i < len(given_list) and given_list[i] > 0:\n",
    "    total4 += given_list[i]\n",
    "    i += 1\n",
    "print(total4)"
   ]
  },
  {
   "cell_type": "code",
   "execution_count": 20,
   "metadata": {},
   "outputs": [
    {
     "name": "stdout",
     "output_type": "stream",
     "text": [
      "17\n"
     ]
    }
   ],
   "source": [
    "# can we do the same with a 'for loop'?\n",
    "\n",
    "given_list2 = [5, 4, 4, 3, 1, -2, -3, -5]\n",
    "total5 = 0\n",
    "for e in given_list2:\n",
    "    if e <= 0:\n",
    "        break\n",
    "    total5 += e\n",
    "print(total5)"
   ]
  },
  {
   "cell_type": "code",
   "execution_count": 23,
   "metadata": {},
   "outputs": [
    {
     "name": "stdout",
     "output_type": "stream",
     "text": [
      "17\n"
     ]
    }
   ],
   "source": [
    "# use a 'while loop' with a break function\n",
    "\n",
    "given_list2 = [5, 4, 4, 3, 1, -2, -3, -5]\n",
    "total6 = 0\n",
    "i = 0\n",
    "while True:\n",
    "    total6 += given_list2[i]\n",
    "    i += 1\n",
    "    if given_list2[i] <= 0:\n",
    "        break\n",
    "print(total6)"
   ]
  },
  {
   "cell_type": "code",
   "execution_count": 33,
   "metadata": {},
   "outputs": [
    {
     "name": "stdout",
     "output_type": "stream",
     "text": [
      "Total: -17\n"
     ]
    }
   ],
   "source": [
    "# compute all negative numbers in the following list ('while loop')\n",
    "\n",
    "given_list3 = [7, 5, 4, 4, 3, 1, -2, -3, -5, -7]\n",
    "total7 = 0\n",
    "i = 0\n",
    "while i < len(given_list3):\n",
    "    if given_list3[i] <= 0:\n",
    "        total7 += given_list3[i]\n",
    "    i += 1\n",
    "print(\"Total:\", total7)"
   ]
  },
  {
   "cell_type": "code",
   "execution_count": 34,
   "metadata": {},
   "outputs": [
    {
     "name": "stdout",
     "output_type": "stream",
     "text": [
      "Total: -17\n"
     ]
    }
   ],
   "source": [
    "# same but with a 'for loop'\n",
    "\n",
    "given_list4 = [7, 5, 4, 4, 3, 1, -2, -3, -5, -7]\n",
    "total8 = 0\n",
    "\n",
    "for k in given_list4:\n",
    "    if k <= 0:\n",
    "        total8 += k\n",
    "print(\"Total:\", total8)"
   ]
  },
  {
   "cell_type": "code",
   "execution_count": null,
   "metadata": {},
   "outputs": [],
   "source": []
  }
 ],
 "metadata": {
  "kernelspec": {
   "display_name": "Python 3",
   "language": "python",
   "name": "python3"
  },
  "language_info": {
   "codemirror_mode": {
    "name": "ipython",
    "version": 3
   },
   "file_extension": ".py",
   "mimetype": "text/x-python",
   "name": "python",
   "nbconvert_exporter": "python",
   "pygments_lexer": "ipython3",
   "version": "3.8.2"
  }
 },
 "nbformat": 4,
 "nbformat_minor": 4
}
